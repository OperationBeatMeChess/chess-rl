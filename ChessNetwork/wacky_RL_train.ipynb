{
 "cells": [
  {
   "cell_type": "markdown",
   "metadata": {},
   "source": [
    "Chess RL + Expert Learning + Weirdness "
   ]
  },
  {
   "cell_type": "code",
   "execution_count": 1,
   "metadata": {},
   "outputs": [
    {
     "name": "stderr",
     "output_type": "stream",
     "text": [
      "/home/kage/.local/lib/python3.10/site-packages/tqdm/auto.py:22: TqdmWarning: IProgress not found. Please update jupyter and ipywidgets. See https://ipywidgets.readthedocs.io/en/stable/user_install.html\n",
      "  from .autonotebook import tqdm as notebook_tqdm\n"
     ]
    }
   ],
   "source": [
    "import wandb\n",
    "import gym\n",
    "import chess\n",
    "import os, sys, copy\n",
    "import torch\n",
    "from torch.utils.data import Dataset, DataLoader, random_split, Subset\n",
    "from torch.cuda.amp import GradScaler\n",
    "from torch.cuda.amp import autocast\n",
    "from tqdm import tqdm\n",
    "import numpy as np\n",
    "import time\n",
    "import adversarial_gym\n",
    "from adversarial_gym.chess_env import ChessEnv\n",
    "\n",
    "from OBM_ChessNetwork import Chess42069NetworkSimple\n",
    "\n",
    "sys.path.append('../../chess_utils')\n",
    "from chess_dataset import ChessDataset\n",
    "from utils import RunningAverage"
   ]
  },
  {
   "cell_type": "markdown",
   "metadata": {},
   "source": [
    "Model Gameplay Functions"
   ]
  },
  {
   "cell_type": "code",
   "execution_count": 2,
   "metadata": {},
   "outputs": [],
   "source": [
    "def play_game(env, white, black, perspective=None, sample_n=1, duel=False):\n",
    "    \"\"\" Plays a game and returns data for chosen perspective.\n",
    "    \n",
    "    Perspective is either Chess.WHITE (1) or Chess.BLACK (0).\n",
    "    \"\"\"\n",
    "    step = 0\n",
    "    actions = []\n",
    "    log_probs = []\n",
    "    observations = []\n",
    "    done = False\n",
    "    obs = env.reset()[0]\n",
    "    while not done:\n",
    "        if perspective is None: # Self play\n",
    "            # In this case white and black are the same model\n",
    "            action, log_prob = white.get_action(obs[0], env.board.legal_moves, sample_n=sample_n)\n",
    "            observations.append(obs[0])\n",
    "            actions.append(action)\n",
    "            log_probs.append(log_prob)\n",
    "        else:\n",
    "            if step % 2 == 0:\n",
    "                action, log_prob = white.get_action(obs[0], env.board.legal_moves, sample_n=sample_n)\n",
    "                if perspective == chess.WHITE:\n",
    "                    observations.append(obs[0])\n",
    "                    actions.append(action)\n",
    "                    log_probs.append(log_prob)\n",
    "            else:\n",
    "                action, log_prob = black.get_action(obs[0], env.board.legal_moves, sample_n=sample_n)\n",
    "                if perspective == chess.BLACK:\n",
    "                    observations.append(obs[0])\n",
    "                    actions.append(action)\n",
    "                    log_probs.append(log_prob)\n",
    "\n",
    "        obs, reward, done, _, info = env.step(action)\n",
    "        step += 1\n",
    "\n",
    "    # # If perspective is None (self-play) do nothing and return reward in [-1,0,1]. Otherwise return reward based\n",
    "    # # on winning or losing from white/black perspective\n",
    "    # if perspective == chess.BLACK and reward == -1:\n",
    "    #     reward = 1\n",
    "\n",
    "    # if reward == 1 or reward == -1:\n",
    "    #     print(\"GAME WON!!\")\n",
    "    # if reward == 0:\n",
    "    #     print(\"GAME DRAWN!!\")\n",
    "\n",
    "    # if duel and reward != 1: reward = 0\n",
    "\n",
    "    return observations, actions, log_probs, reward\n",
    "\n",
    "\n",
    "def duel(env, old_model, new_model, num_rounds):\n",
    "    \"\"\" Duel against the previous best model and return the win ratio. \"\"\"\n",
    "    new_model.eval()\n",
    "    with torch.no_grad():\n",
    "        wins = 0\n",
    "        for i in range(num_rounds):\n",
    "            _, _, _, r_w = play_game(env, new_model, old_model, perspective=chess.WHITE, sample_n = 2, duel=True)\n",
    "            _, _, _, r_b = play_game(env, old_model, new_model, perspective=chess.BLACK, sample_n = 2, duel=True)\n",
    "\n",
    "            wins += r_w + r_b\n",
    "    new_model.train()    \n",
    "    return wins / (2 * num_rounds)\n",
    "\n",
    "\n",
    "def self_play(env, model, num_games):\n",
    "    \"\"\" Plays num_games against itself to gather obs, actions, log_probs, rewards data \"\"\"\n",
    "    # TODO: check if numpy array of shape (num_games, 4) is faster, each row could be output of play_game\n",
    "    actions = []\n",
    "    log_probs = []\n",
    "    rewards = []\n",
    "    observations = []\n",
    "    for _ in range(num_games):\n",
    "        g_obs, g_actions, g_log_probs, g_reward = play_game(env, model, model, perspective=None)\n",
    "        actions.append(g_actions)\n",
    "        log_probs.append(g_log_probs)\n",
    "        rewards.append(g_reward)\n",
    "        observations.append(g_obs)\n",
    "    return observations, actions, log_probs, rewards"
   ]
  },
  {
   "cell_type": "markdown",
   "metadata": {},
   "source": [
    "Expert Learning"
   ]
  },
  {
   "cell_type": "code",
   "execution_count": 3,
   "metadata": {},
   "outputs": [],
   "source": [
    "def run_validation(model, val_loader, stats):\n",
    "    model.eval()\n",
    "    stats.reset(\"val_loss\")\n",
    "    t1 = time.perf_counter()\n",
    "    with torch.no_grad():\n",
    "        for i, (state, action, result) in enumerate(val_loader):\n",
    "            state = state.float().to('cuda' if torch.cuda.is_available() else 'cpu')\n",
    "            action = action.to('cuda' if torch.cuda.is_available() else 'cpu')\n",
    "            result = result.float().to('cuda' if torch.cuda.is_available() else 'cpu')\n",
    "            \n",
    "            policy_output, value_output = model(state.unsqueeze(1))\n",
    "            policy_loss = model.policy_loss(policy_output.squeeze(), action)\n",
    "            value_loss = model.val_loss(value_output.squeeze(), result)\n",
    "            \n",
    "            loss = policy_loss + value_loss\n",
    "            stats.update(\"val_loss\", loss.item())\n",
    "    \n",
    "    print(f\"Mean Validation Loss: {stats.get_average('val_loss')}, time elapsed: {time.perf_counter()-t1} seconds\")\n",
    "    return stats.get_average('val_loss')\n",
    "\n",
    "\n",
    "def expert_study(model, dataset, percent_dataset=0.1):\n",
    "    \"\"\" Trains on TCEC data in a supervised fashion (behaviour cloning)\"\"\"\n",
    "\n",
    "    # Load random subset of dataset and split\n",
    "    study_size = int(percent_dataset * len(dataset))\n",
    "    random_indices = np.random.randint(0, study_size, study_size)\n",
    "    study_dataset = Subset(dataset, random_indices)\n",
    "    \n",
    "    train_ratio = 0.9\n",
    "    train_size = int(train_ratio * study_size)\n",
    "    val_size = study_size - train_size\n",
    "    train_dataset, val_dataset = random_split(study_dataset, [train_size, val_size])\n",
    "\n",
    "    # Create data loaders for the training and validation sets\n",
    "    train_loader = DataLoader(train_dataset, batch_size=16, shuffle=True, \n",
    "                            pin_memory=False, num_workers=2)\n",
    "    val_loader = DataLoader(val_dataset, batch_size=16, shuffle=False, \n",
    "                            pin_memory=False, num_workers=2)\n",
    "\n",
    "    stats = RunningAverage()\n",
    "    stats.add([\"train_loss\", \"val_loss\", \"train_p_loss\", \"train_v_loss\"])\n",
    "\n",
    "    model.train()\n",
    "    t1 = time.perf_counter()\n",
    "    for i, (state, action, result) in enumerate(train_loader):\n",
    "        state = state.float().to(model.device)\n",
    "        action = action.to(model.device)\n",
    "        result = result.float().to(model.device)\n",
    "\n",
    "        with autocast():\n",
    "            policy_output, value_output = model(state.unsqueeze(1))\n",
    "            policy_loss = model.policy_loss(policy_output.squeeze(), action)\n",
    "            value_loss = model.val_loss(value_output.squeeze(), result)\n",
    "            loss = policy_loss + value_loss\n",
    "        \n",
    "        # AMP with gradient clipping\n",
    "        model.optimizer.zero_grad()\n",
    "        model.grad_scaler.scale(loss).backward()\n",
    "        model.grad_scaler.unscale_(model.optimizer)\n",
    "        torch.nn.utils.clip_grad_norm_(model.parameters(), max_norm=1.0)\n",
    "        model.grad_scaler.step(model.optimizer)\n",
    "        model.grad_scaler.update()\n",
    "\n",
    "        stats.update({\n",
    "            \"train_loss\": loss.item(),\n",
    "            \"train_p_loss\": policy_loss.item(),\n",
    "            \"train_v_loss\": value_loss.item()\n",
    "            })\n",
    "        \n",
    "    print(f\"Study Train Loss: {stats.get_average('train_loss')}\")\n",
    "    # wandb.log({\"study_train_loss\": stats.get_average('train_loss')})\n",
    "    t2 = time.perf_counter()\n",
    "    valid_loss = run_validation(model, val_loader, stats)\n",
    "    # wandb.log({\"val_loss\": valid_loss, \"iter\": i})\n"
   ]
  },
  {
   "cell_type": "markdown",
   "metadata": {},
   "source": [
    "Load Models"
   ]
  },
  {
   "cell_type": "code",
   "execution_count": 4,
   "metadata": {},
   "outputs": [
    {
     "name": "stderr",
     "output_type": "stream",
     "text": [
      "/home/kage/.local/lib/python3.10/site-packages/torch/functional.py:478: UserWarning: torch.meshgrid: in an upcoming release, it will be required to pass the indexing argument. (Triggered internally at  ../aten/src/ATen/native/TensorShape.cpp:2894.)\n",
      "  return _VF.meshgrid(tensors, **kwargs)  # type: ignore[attr-defined]\n"
     ]
    },
    {
     "name": "stdout",
     "output_type": "stream",
     "text": [
      "Loading model at: {MODEL_PATH}\n"
     ]
    },
    {
     "data": {
      "text/plain": [
       "Chess42069NetworkSimple(\n",
       "  (swin_transformer): SwinTransformer(\n",
       "    (patch_embed): PatchEmbed(\n",
       "      (proj): Conv2d(1, 96, kernel_size=(1, 1), stride=(1, 1))\n",
       "      (norm): LayerNorm((96,), eps=1e-05, elementwise_affine=True)\n",
       "    )\n",
       "    (layers): Sequential(\n",
       "      (0): SwinTransformerStage(\n",
       "        (downsample): Identity()\n",
       "        (blocks): Sequential(\n",
       "          (0): SwinTransformerBlock(\n",
       "            (norm1): LayerNorm((96,), eps=1e-05, elementwise_affine=True)\n",
       "            (attn): WindowAttention(\n",
       "              (qkv): Linear(in_features=96, out_features=288, bias=True)\n",
       "              (attn_drop): Dropout(p=0.0, inplace=False)\n",
       "              (proj): Linear(in_features=96, out_features=96, bias=True)\n",
       "              (proj_drop): Dropout(p=0.0, inplace=False)\n",
       "              (softmax): Softmax(dim=-1)\n",
       "            )\n",
       "            (drop_path): Identity()\n",
       "            (norm2): LayerNorm((96,), eps=1e-05, elementwise_affine=True)\n",
       "            (mlp): Mlp(\n",
       "              (fc1): Linear(in_features=96, out_features=384, bias=True)\n",
       "              (act): GELU(approximate=none)\n",
       "              (drop1): Dropout(p=0.0, inplace=False)\n",
       "              (norm): Identity()\n",
       "              (fc2): Linear(in_features=384, out_features=96, bias=True)\n",
       "              (drop2): Dropout(p=0.0, inplace=False)\n",
       "            )\n",
       "          )\n",
       "          (1): SwinTransformerBlock(\n",
       "            (norm1): LayerNorm((96,), eps=1e-05, elementwise_affine=True)\n",
       "            (attn): WindowAttention(\n",
       "              (qkv): Linear(in_features=96, out_features=288, bias=True)\n",
       "              (attn_drop): Dropout(p=0.0, inplace=False)\n",
       "              (proj): Linear(in_features=96, out_features=96, bias=True)\n",
       "              (proj_drop): Dropout(p=0.0, inplace=False)\n",
       "              (softmax): Softmax(dim=-1)\n",
       "            )\n",
       "            (drop_path): DropPath(drop_prob=0.009)\n",
       "            (norm2): LayerNorm((96,), eps=1e-05, elementwise_affine=True)\n",
       "            (mlp): Mlp(\n",
       "              (fc1): Linear(in_features=96, out_features=384, bias=True)\n",
       "              (act): GELU(approximate=none)\n",
       "              (drop1): Dropout(p=0.0, inplace=False)\n",
       "              (norm): Identity()\n",
       "              (fc2): Linear(in_features=384, out_features=96, bias=True)\n",
       "              (drop2): Dropout(p=0.0, inplace=False)\n",
       "            )\n",
       "          )\n",
       "        )\n",
       "      )\n",
       "      (1): SwinTransformerStage(\n",
       "        (downsample): PatchMerging(\n",
       "          (norm): LayerNorm((384,), eps=1e-05, elementwise_affine=True)\n",
       "          (reduction): Linear(in_features=384, out_features=192, bias=False)\n",
       "        )\n",
       "        (blocks): Sequential(\n",
       "          (0): SwinTransformerBlock(\n",
       "            (norm1): LayerNorm((192,), eps=1e-05, elementwise_affine=True)\n",
       "            (attn): WindowAttention(\n",
       "              (qkv): Linear(in_features=192, out_features=576, bias=True)\n",
       "              (attn_drop): Dropout(p=0.0, inplace=False)\n",
       "              (proj): Linear(in_features=192, out_features=192, bias=True)\n",
       "              (proj_drop): Dropout(p=0.0, inplace=False)\n",
       "              (softmax): Softmax(dim=-1)\n",
       "            )\n",
       "            (drop_path): DropPath(drop_prob=0.018)\n",
       "            (norm2): LayerNorm((192,), eps=1e-05, elementwise_affine=True)\n",
       "            (mlp): Mlp(\n",
       "              (fc1): Linear(in_features=192, out_features=768, bias=True)\n",
       "              (act): GELU(approximate=none)\n",
       "              (drop1): Dropout(p=0.0, inplace=False)\n",
       "              (norm): Identity()\n",
       "              (fc2): Linear(in_features=768, out_features=192, bias=True)\n",
       "              (drop2): Dropout(p=0.0, inplace=False)\n",
       "            )\n",
       "          )\n",
       "          (1): SwinTransformerBlock(\n",
       "            (norm1): LayerNorm((192,), eps=1e-05, elementwise_affine=True)\n",
       "            (attn): WindowAttention(\n",
       "              (qkv): Linear(in_features=192, out_features=576, bias=True)\n",
       "              (attn_drop): Dropout(p=0.0, inplace=False)\n",
       "              (proj): Linear(in_features=192, out_features=192, bias=True)\n",
       "              (proj_drop): Dropout(p=0.0, inplace=False)\n",
       "              (softmax): Softmax(dim=-1)\n",
       "            )\n",
       "            (drop_path): DropPath(drop_prob=0.027)\n",
       "            (norm2): LayerNorm((192,), eps=1e-05, elementwise_affine=True)\n",
       "            (mlp): Mlp(\n",
       "              (fc1): Linear(in_features=192, out_features=768, bias=True)\n",
       "              (act): GELU(approximate=none)\n",
       "              (drop1): Dropout(p=0.0, inplace=False)\n",
       "              (norm): Identity()\n",
       "              (fc2): Linear(in_features=768, out_features=192, bias=True)\n",
       "              (drop2): Dropout(p=0.0, inplace=False)\n",
       "            )\n",
       "          )\n",
       "        )\n",
       "      )\n",
       "      (2): SwinTransformerStage(\n",
       "        (downsample): PatchMerging(\n",
       "          (norm): LayerNorm((768,), eps=1e-05, elementwise_affine=True)\n",
       "          (reduction): Linear(in_features=768, out_features=384, bias=False)\n",
       "        )\n",
       "        (blocks): Sequential(\n",
       "          (0): SwinTransformerBlock(\n",
       "            (norm1): LayerNorm((384,), eps=1e-05, elementwise_affine=True)\n",
       "            (attn): WindowAttention(\n",
       "              (qkv): Linear(in_features=384, out_features=1152, bias=True)\n",
       "              (attn_drop): Dropout(p=0.0, inplace=False)\n",
       "              (proj): Linear(in_features=384, out_features=384, bias=True)\n",
       "              (proj_drop): Dropout(p=0.0, inplace=False)\n",
       "              (softmax): Softmax(dim=-1)\n",
       "            )\n",
       "            (drop_path): DropPath(drop_prob=0.036)\n",
       "            (norm2): LayerNorm((384,), eps=1e-05, elementwise_affine=True)\n",
       "            (mlp): Mlp(\n",
       "              (fc1): Linear(in_features=384, out_features=1536, bias=True)\n",
       "              (act): GELU(approximate=none)\n",
       "              (drop1): Dropout(p=0.0, inplace=False)\n",
       "              (norm): Identity()\n",
       "              (fc2): Linear(in_features=1536, out_features=384, bias=True)\n",
       "              (drop2): Dropout(p=0.0, inplace=False)\n",
       "            )\n",
       "          )\n",
       "          (1): SwinTransformerBlock(\n",
       "            (norm1): LayerNorm((384,), eps=1e-05, elementwise_affine=True)\n",
       "            (attn): WindowAttention(\n",
       "              (qkv): Linear(in_features=384, out_features=1152, bias=True)\n",
       "              (attn_drop): Dropout(p=0.0, inplace=False)\n",
       "              (proj): Linear(in_features=384, out_features=384, bias=True)\n",
       "              (proj_drop): Dropout(p=0.0, inplace=False)\n",
       "              (softmax): Softmax(dim=-1)\n",
       "            )\n",
       "            (drop_path): DropPath(drop_prob=0.045)\n",
       "            (norm2): LayerNorm((384,), eps=1e-05, elementwise_affine=True)\n",
       "            (mlp): Mlp(\n",
       "              (fc1): Linear(in_features=384, out_features=1536, bias=True)\n",
       "              (act): GELU(approximate=none)\n",
       "              (drop1): Dropout(p=0.0, inplace=False)\n",
       "              (norm): Identity()\n",
       "              (fc2): Linear(in_features=1536, out_features=384, bias=True)\n",
       "              (drop2): Dropout(p=0.0, inplace=False)\n",
       "            )\n",
       "          )\n",
       "          (2): SwinTransformerBlock(\n",
       "            (norm1): LayerNorm((384,), eps=1e-05, elementwise_affine=True)\n",
       "            (attn): WindowAttention(\n",
       "              (qkv): Linear(in_features=384, out_features=1152, bias=True)\n",
       "              (attn_drop): Dropout(p=0.0, inplace=False)\n",
       "              (proj): Linear(in_features=384, out_features=384, bias=True)\n",
       "              (proj_drop): Dropout(p=0.0, inplace=False)\n",
       "              (softmax): Softmax(dim=-1)\n",
       "            )\n",
       "            (drop_path): DropPath(drop_prob=0.055)\n",
       "            (norm2): LayerNorm((384,), eps=1e-05, elementwise_affine=True)\n",
       "            (mlp): Mlp(\n",
       "              (fc1): Linear(in_features=384, out_features=1536, bias=True)\n",
       "              (act): GELU(approximate=none)\n",
       "              (drop1): Dropout(p=0.0, inplace=False)\n",
       "              (norm): Identity()\n",
       "              (fc2): Linear(in_features=1536, out_features=384, bias=True)\n",
       "              (drop2): Dropout(p=0.0, inplace=False)\n",
       "            )\n",
       "          )\n",
       "          (3): SwinTransformerBlock(\n",
       "            (norm1): LayerNorm((384,), eps=1e-05, elementwise_affine=True)\n",
       "            (attn): WindowAttention(\n",
       "              (qkv): Linear(in_features=384, out_features=1152, bias=True)\n",
       "              (attn_drop): Dropout(p=0.0, inplace=False)\n",
       "              (proj): Linear(in_features=384, out_features=384, bias=True)\n",
       "              (proj_drop): Dropout(p=0.0, inplace=False)\n",
       "              (softmax): Softmax(dim=-1)\n",
       "            )\n",
       "            (drop_path): DropPath(drop_prob=0.064)\n",
       "            (norm2): LayerNorm((384,), eps=1e-05, elementwise_affine=True)\n",
       "            (mlp): Mlp(\n",
       "              (fc1): Linear(in_features=384, out_features=1536, bias=True)\n",
       "              (act): GELU(approximate=none)\n",
       "              (drop1): Dropout(p=0.0, inplace=False)\n",
       "              (norm): Identity()\n",
       "              (fc2): Linear(in_features=1536, out_features=384, bias=True)\n",
       "              (drop2): Dropout(p=0.0, inplace=False)\n",
       "            )\n",
       "          )\n",
       "          (4): SwinTransformerBlock(\n",
       "            (norm1): LayerNorm((384,), eps=1e-05, elementwise_affine=True)\n",
       "            (attn): WindowAttention(\n",
       "              (qkv): Linear(in_features=384, out_features=1152, bias=True)\n",
       "              (attn_drop): Dropout(p=0.0, inplace=False)\n",
       "              (proj): Linear(in_features=384, out_features=384, bias=True)\n",
       "              (proj_drop): Dropout(p=0.0, inplace=False)\n",
       "              (softmax): Softmax(dim=-1)\n",
       "            )\n",
       "            (drop_path): DropPath(drop_prob=0.073)\n",
       "            (norm2): LayerNorm((384,), eps=1e-05, elementwise_affine=True)\n",
       "            (mlp): Mlp(\n",
       "              (fc1): Linear(in_features=384, out_features=1536, bias=True)\n",
       "              (act): GELU(approximate=none)\n",
       "              (drop1): Dropout(p=0.0, inplace=False)\n",
       "              (norm): Identity()\n",
       "              (fc2): Linear(in_features=1536, out_features=384, bias=True)\n",
       "              (drop2): Dropout(p=0.0, inplace=False)\n",
       "            )\n",
       "          )\n",
       "          (5): SwinTransformerBlock(\n",
       "            (norm1): LayerNorm((384,), eps=1e-05, elementwise_affine=True)\n",
       "            (attn): WindowAttention(\n",
       "              (qkv): Linear(in_features=384, out_features=1152, bias=True)\n",
       "              (attn_drop): Dropout(p=0.0, inplace=False)\n",
       "              (proj): Linear(in_features=384, out_features=384, bias=True)\n",
       "              (proj_drop): Dropout(p=0.0, inplace=False)\n",
       "              (softmax): Softmax(dim=-1)\n",
       "            )\n",
       "            (drop_path): DropPath(drop_prob=0.082)\n",
       "            (norm2): LayerNorm((384,), eps=1e-05, elementwise_affine=True)\n",
       "            (mlp): Mlp(\n",
       "              (fc1): Linear(in_features=384, out_features=1536, bias=True)\n",
       "              (act): GELU(approximate=none)\n",
       "              (drop1): Dropout(p=0.0, inplace=False)\n",
       "              (norm): Identity()\n",
       "              (fc2): Linear(in_features=1536, out_features=384, bias=True)\n",
       "              (drop2): Dropout(p=0.0, inplace=False)\n",
       "            )\n",
       "          )\n",
       "        )\n",
       "      )\n",
       "      (3): SwinTransformerStage(\n",
       "        (downsample): PatchMerging(\n",
       "          (norm): LayerNorm((1536,), eps=1e-05, elementwise_affine=True)\n",
       "          (reduction): Linear(in_features=1536, out_features=768, bias=False)\n",
       "        )\n",
       "        (blocks): Sequential(\n",
       "          (0): SwinTransformerBlock(\n",
       "            (norm1): LayerNorm((768,), eps=1e-05, elementwise_affine=True)\n",
       "            (attn): WindowAttention(\n",
       "              (qkv): Linear(in_features=768, out_features=2304, bias=True)\n",
       "              (attn_drop): Dropout(p=0.0, inplace=False)\n",
       "              (proj): Linear(in_features=768, out_features=768, bias=True)\n",
       "              (proj_drop): Dropout(p=0.0, inplace=False)\n",
       "              (softmax): Softmax(dim=-1)\n",
       "            )\n",
       "            (drop_path): DropPath(drop_prob=0.091)\n",
       "            (norm2): LayerNorm((768,), eps=1e-05, elementwise_affine=True)\n",
       "            (mlp): Mlp(\n",
       "              (fc1): Linear(in_features=768, out_features=3072, bias=True)\n",
       "              (act): GELU(approximate=none)\n",
       "              (drop1): Dropout(p=0.0, inplace=False)\n",
       "              (norm): Identity()\n",
       "              (fc2): Linear(in_features=3072, out_features=768, bias=True)\n",
       "              (drop2): Dropout(p=0.0, inplace=False)\n",
       "            )\n",
       "          )\n",
       "          (1): SwinTransformerBlock(\n",
       "            (norm1): LayerNorm((768,), eps=1e-05, elementwise_affine=True)\n",
       "            (attn): WindowAttention(\n",
       "              (qkv): Linear(in_features=768, out_features=2304, bias=True)\n",
       "              (attn_drop): Dropout(p=0.0, inplace=False)\n",
       "              (proj): Linear(in_features=768, out_features=768, bias=True)\n",
       "              (proj_drop): Dropout(p=0.0, inplace=False)\n",
       "              (softmax): Softmax(dim=-1)\n",
       "            )\n",
       "            (drop_path): DropPath(drop_prob=0.100)\n",
       "            (norm2): LayerNorm((768,), eps=1e-05, elementwise_affine=True)\n",
       "            (mlp): Mlp(\n",
       "              (fc1): Linear(in_features=768, out_features=3072, bias=True)\n",
       "              (act): GELU(approximate=none)\n",
       "              (drop1): Dropout(p=0.0, inplace=False)\n",
       "              (norm): Identity()\n",
       "              (fc2): Linear(in_features=3072, out_features=768, bias=True)\n",
       "              (drop2): Dropout(p=0.0, inplace=False)\n",
       "            )\n",
       "          )\n",
       "        )\n",
       "      )\n",
       "    )\n",
       "    (norm): LayerNorm((768,), eps=1e-05, elementwise_affine=True)\n",
       "    (head): ClassifierHead(\n",
       "      (global_pool): SelectAdaptivePool2d (pool_type=avg, flatten=Identity())\n",
       "      (drop): Dropout(p=0.0, inplace=False)\n",
       "      (fc): Linear(in_features=768, out_features=1000, bias=True)\n",
       "      (flatten): Identity()\n",
       "    )\n",
       "  )\n",
       "  (policy_head): Sequential(\n",
       "    (0): Linear(in_features=768, out_features=256, bias=True)\n",
       "    (1): RReLU(lower=0.125, upper=0.3333333333333333)\n",
       "    (2): Linear(in_features=256, out_features=4672, bias=True)\n",
       "  )\n",
       "  (value_head): Sequential(\n",
       "    (0): Linear(in_features=768, out_features=256, bias=True)\n",
       "    (1): RReLU(lower=0.125, upper=0.3333333333333333)\n",
       "    (2): Linear(in_features=256, out_features=1, bias=True)\n",
       "    (3): Tanh()\n",
       "  )\n",
       "  (val_loss): MSELoss()\n",
       "  (policy_loss): CrossEntropyLoss()\n",
       ")"
      ]
     },
     "execution_count": 4,
     "metadata": {},
     "output_type": "execute_result"
    }
   ],
   "source": [
    "# Load Model\n",
    "MODEL_PATH = '/home/kage/chess_workspace/simpler_SwinChessNet42069.pt'\n",
    "\n",
    "model = Chess42069NetworkSimple(hidden_dim=256, device='cuda')\n",
    "best_model = Chess42069NetworkSimple(hidden_dim=256, device='cuda')\n",
    "\n",
    "if os.path.exists(MODEL_PATH):\n",
    "    print(\"Loading model at: {MODEL_PATH}\")\n",
    "    model.load_state_dict(torch.load(MODEL_PATH))\n",
    "    best_model.load_state_dict(torch.load(MODEL_PATH))\n",
    "\n",
    "best_model.eval()"
   ]
  },
  {
   "cell_type": "markdown",
   "metadata": {},
   "source": [
    "Train - VPG with Self-Play and Dueling"
   ]
  },
  {
   "cell_type": "code",
   "execution_count": 5,
   "metadata": {},
   "outputs": [
    {
     "name": "stderr",
     "output_type": "stream",
     "text": [
      "/home/kage/.local/lib/python3.10/site-packages/gym/utils/passive_env_checker.py:31: UserWarning: \u001b[33mWARN: A Box observation space has an unconventional shape (neither an image, nor a 1D vector). We recommend flattening the observation to have only a 1D vector or use a custom policy to properly process the data. Actual observation shape: (8, 8)\u001b[0m\n",
      "  logger.warn(\n"
     ]
    }
   ],
   "source": [
    "# Train Params\n",
    "PGN_FILE = '/home/kage/chess_workspace/PGN-data/alphazero_stockfish_all/alphazero_vs_stockfish_all.pgn'\n",
    "MODEL_SAVEPATH = '/home/kage/chess_workspace/WACKY_RL_MODEL.pt'\n",
    "\n",
    "NUM_EPOCHS = 100\n",
    "STUDY_EVERY = 1 \n",
    "DUEL_EVERY = 10\n",
    "\n",
    "chess_dataset = ChessDataset(PGN_FILE)\n",
    "env = gym.make('Chess-v0')"
   ]
  },
  {
   "cell_type": "code",
   "execution_count": 6,
   "metadata": {},
   "outputs": [
    {
     "name": "stderr",
     "output_type": "stream",
     "text": [
      "  0%|          | 0/100 [00:00<?, ?it/s]"
     ]
    },
    {
     "name": "stdout",
     "output_type": "stream",
     "text": [
      "GAME DRAWN!!\n",
      "Study Train Loss: 4.31906755470935\n",
      "Mean Validation Loss: 4.089915487501356, time elapsed: 0.5763793049991364 seconds\n",
      "GAME WON!!\n",
      "GAME WON!!\n",
      "GAME DRAWN!!\n",
      "GAME DRAWN!!\n",
      "GAME DRAWN!!\n",
      "GAME DRAWN!!\n",
      "GAME WON!!\n",
      "GAME DRAWN!!\n",
      "GAME DRAWN!!\n",
      "GAME DRAWN!!\n",
      "GAME DRAWN!!\n",
      "GAME WON!!\n",
      "GAME DRAWN!!\n",
      "GAME DRAWN!!\n",
      "GAME DRAWN!!\n",
      "GAME DRAWN!!\n",
      "GAME WON!!\n",
      "GAME DRAWN!!\n",
      "GAME DRAWN!!\n"
     ]
    },
    {
     "name": "stderr",
     "output_type": "stream",
     "text": [
      "  1%|          | 1/100 [01:29<2:27:10, 89.20s/it]"
     ]
    },
    {
     "name": "stdout",
     "output_type": "stream",
     "text": [
      "GAME DRAWN!!\n",
      "Model win ratio: 0.1\n",
      "GAME WON!!\n",
      "Study Train Loss: 4.281427089078927\n"
     ]
    },
    {
     "name": "stderr",
     "output_type": "stream",
     "text": [
      "  2%|▏         | 2/100 [01:40<1:11:13, 43.61s/it]"
     ]
    },
    {
     "name": "stdout",
     "output_type": "stream",
     "text": [
      "Mean Validation Loss: 4.030757586161297, time elapsed: 0.573311432999617 seconds\n",
      "GAME DRAWN!!\n",
      "Study Train Loss: 4.11402584888317\n"
     ]
    },
    {
     "name": "stderr",
     "output_type": "stream",
     "text": [
      "  3%|▎         | 3/100 [01:56<49:34, 30.67s/it]  "
     ]
    },
    {
     "name": "stdout",
     "output_type": "stream",
     "text": [
      "Mean Validation Loss: 3.8428086704678006, time elapsed: 0.5150717810029164 seconds\n",
      "GAME DRAWN!!\n",
      "Study Train Loss: 3.9242285357581252\n"
     ]
    },
    {
     "name": "stderr",
     "output_type": "stream",
     "text": [
      "  4%|▍         | 4/100 [02:15<41:48, 26.13s/it]"
     ]
    },
    {
     "name": "stdout",
     "output_type": "stream",
     "text": [
      "Mean Validation Loss: 3.8204457759857178, time elapsed: 0.5046848749989294 seconds\n",
      "GAME DRAWN!!\n",
      "Study Train Loss: 3.8297720750172926\n"
     ]
    },
    {
     "name": "stderr",
     "output_type": "stream",
     "text": [
      "  5%|▌         | 5/100 [02:43<42:21, 26.75s/it]"
     ]
    },
    {
     "name": "stdout",
     "output_type": "stream",
     "text": [
      "Mean Validation Loss: 3.561065196990967, time elapsed: 0.5765838110019104 seconds\n",
      "GAME DRAWN!!\n",
      "Study Train Loss: 3.7133101857738726\n"
     ]
    },
    {
     "name": "stderr",
     "output_type": "stream",
     "text": [
      "  6%|▌         | 6/100 [03:10<42:25, 27.08s/it]"
     ]
    },
    {
     "name": "stdout",
     "output_type": "stream",
     "text": [
      "Mean Validation Loss: 3.6076747046576605, time elapsed: 0.6635855580025236 seconds\n",
      "GAME DRAWN!!\n",
      "Study Train Loss: 3.732717902572066\n"
     ]
    },
    {
     "name": "stderr",
     "output_type": "stream",
     "text": [
      "  7%|▋         | 7/100 [03:30<38:14, 24.67s/it]"
     ]
    },
    {
     "name": "stdout",
     "output_type": "stream",
     "text": [
      "Mean Validation Loss: 3.8381338119506836, time elapsed: 0.6656231399974786 seconds\n",
      "GAME WON!!\n",
      "Study Train Loss: 3.851238512698515\n"
     ]
    },
    {
     "name": "stderr",
     "output_type": "stream",
     "text": [
      "  8%|▊         | 8/100 [03:47<33:59, 22.17s/it]"
     ]
    },
    {
     "name": "stdout",
     "output_type": "stream",
     "text": [
      "Mean Validation Loss: 3.756683429082235, time elapsed: 0.6773788070058799 seconds\n",
      "GAME DRAWN!!\n",
      "Study Train Loss: 4.089818972128408\n"
     ]
    },
    {
     "name": "stderr",
     "output_type": "stream",
     "text": [
      "  9%|▉         | 9/100 [04:14<36:02, 23.77s/it]"
     ]
    },
    {
     "name": "stdout",
     "output_type": "stream",
     "text": [
      "Mean Validation Loss: 4.3730265564388695, time elapsed: 0.7049951380031416 seconds\n",
      "GAME DRAWN!!\n",
      "Study Train Loss: 4.405362514801967\n"
     ]
    },
    {
     "name": "stderr",
     "output_type": "stream",
     "text": [
      " 10%|█         | 10/100 [04:36<34:31, 23.02s/it]"
     ]
    },
    {
     "name": "stdout",
     "output_type": "stream",
     "text": [
      "Mean Validation Loss: 4.340428537792629, time elapsed: 0.6333502720008255 seconds\n",
      "GAME WON!!\n",
      "Study Train Loss: 4.601099653008544\n",
      "Mean Validation Loss: 4.412098566691081, time elapsed: 0.6896796439978061 seconds\n",
      "GAME DRAWN!!\n",
      "GAME DRAWN!!\n",
      "GAME DRAWN!!\n",
      "GAME DRAWN!!\n",
      "GAME DRAWN!!\n",
      "GAME DRAWN!!\n",
      "GAME DRAWN!!\n",
      "GAME DRAWN!!\n",
      "GAME DRAWN!!\n",
      "GAME DRAWN!!\n",
      "GAME DRAWN!!\n",
      "GAME DRAWN!!\n",
      "GAME DRAWN!!\n",
      "GAME DRAWN!!\n",
      "GAME DRAWN!!\n",
      "GAME DRAWN!!\n",
      "GAME DRAWN!!\n",
      "GAME DRAWN!!\n",
      "GAME DRAWN!!\n"
     ]
    },
    {
     "name": "stderr",
     "output_type": "stream",
     "text": [
      " 11%|█         | 11/100 [06:17<1:09:37, 46.94s/it]"
     ]
    },
    {
     "name": "stdout",
     "output_type": "stream",
     "text": [
      "GAME WON!!\n",
      "Model win ratio: 0.05\n",
      "GAME DRAWN!!\n",
      "Study Train Loss: 4.474071217171939\n"
     ]
    },
    {
     "name": "stderr",
     "output_type": "stream",
     "text": [
      " 12%|█▏        | 12/100 [06:36<56:36, 38.60s/it]  "
     ]
    },
    {
     "name": "stdout",
     "output_type": "stream",
     "text": [
      "Mean Validation Loss: 4.34232227007548, time elapsed: 0.7025515610002913 seconds\n",
      "GAME DRAWN!!\n",
      "Study Train Loss: 4.376022162260831\n"
     ]
    },
    {
     "name": "stderr",
     "output_type": "stream",
     "text": [
      " 13%|█▎        | 13/100 [06:57<48:18, 33.32s/it]"
     ]
    },
    {
     "name": "stdout",
     "output_type": "stream",
     "text": [
      "Mean Validation Loss: 4.190015580919054, time elapsed: 0.73049589600123 seconds\n",
      "GAME WON!!\n",
      "Study Train Loss: 4.383427649368475\n"
     ]
    },
    {
     "name": "stderr",
     "output_type": "stream",
     "text": [
      " 14%|█▍        | 14/100 [07:10<38:55, 27.15s/it]"
     ]
    },
    {
     "name": "stdout",
     "output_type": "stream",
     "text": [
      "Mean Validation Loss: 4.255653381347656, time elapsed: 0.6611443180008791 seconds\n",
      "GAME DRAWN!!\n",
      "Study Train Loss: 4.269827822108327\n"
     ]
    },
    {
     "name": "stderr",
     "output_type": "stream",
     "text": [
      " 15%|█▌        | 15/100 [07:31<35:50, 25.30s/it]"
     ]
    },
    {
     "name": "stdout",
     "output_type": "stream",
     "text": [
      "Mean Validation Loss: 4.101264105902778, time elapsed: 0.6530303039980936 seconds\n",
      "GAME WON!!\n",
      "Study Train Loss: 4.3024989646158085\n"
     ]
    },
    {
     "name": "stderr",
     "output_type": "stream",
     "text": [
      " 16%|█▌        | 16/100 [07:43<29:51, 21.33s/it]"
     ]
    },
    {
     "name": "stdout",
     "output_type": "stream",
     "text": [
      "Mean Validation Loss: 4.1130041281382255, time elapsed: 0.6234130800003186 seconds\n",
      "GAME DRAWN!!\n",
      "Study Train Loss: 4.226616994834241\n"
     ]
    },
    {
     "name": "stderr",
     "output_type": "stream",
     "text": [
      " 17%|█▋        | 17/100 [08:03<28:36, 20.68s/it]"
     ]
    },
    {
     "name": "stdout",
     "output_type": "stream",
     "text": [
      "Mean Validation Loss: 4.076146999994914, time elapsed: 0.6300492639929871 seconds\n",
      "GAME DRAWN!!\n",
      "Study Train Loss: 4.231685635484295\n"
     ]
    },
    {
     "name": "stderr",
     "output_type": "stream",
     "text": [
      " 18%|█▊        | 18/100 [08:26<29:16, 21.43s/it]"
     ]
    },
    {
     "name": "stdout",
     "output_type": "stream",
     "text": [
      "Mean Validation Loss: 4.081437799665663, time elapsed: 0.7195842010041815 seconds\n",
      "GAME DRAWN!!\n",
      "Study Train Loss: 4.1899677559181505\n"
     ]
    },
    {
     "name": "stderr",
     "output_type": "stream",
     "text": [
      " 19%|█▉        | 19/100 [08:52<30:59, 22.96s/it]"
     ]
    },
    {
     "name": "stdout",
     "output_type": "stream",
     "text": [
      "Mean Validation Loss: 3.9958567089504666, time elapsed: 0.639725567001733 seconds\n",
      "GAME DRAWN!!\n",
      "Study Train Loss: 4.168882976343603\n"
     ]
    },
    {
     "name": "stderr",
     "output_type": "stream",
     "text": [
      " 20%|██        | 20/100 [09:19<32:08, 24.11s/it]"
     ]
    },
    {
     "name": "stdout",
     "output_type": "stream",
     "text": [
      "Mean Validation Loss: 4.123417245017158, time elapsed: 0.6524948619990028 seconds\n",
      "GAME DRAWN!!\n",
      "Study Train Loss: 4.093833796771956\n",
      "Mean Validation Loss: 4.1003346178266735, time elapsed: 0.6699526360025629 seconds\n",
      "GAME DRAWN!!\n",
      "GAME DRAWN!!\n",
      "GAME WON!!\n",
      "GAME DRAWN!!\n",
      "GAME WON!!\n",
      "GAME DRAWN!!\n",
      "GAME DRAWN!!\n",
      "GAME DRAWN!!\n",
      "GAME DRAWN!!\n",
      "GAME DRAWN!!\n",
      "GAME DRAWN!!\n",
      "GAME DRAWN!!\n",
      "GAME DRAWN!!\n",
      "GAME DRAWN!!\n",
      "GAME DRAWN!!\n",
      "GAME DRAWN!!\n",
      "GAME DRAWN!!\n",
      "GAME DRAWN!!\n",
      "GAME DRAWN!!\n"
     ]
    },
    {
     "name": "stderr",
     "output_type": "stream",
     "text": [
      " 21%|██        | 21/100 [10:43<55:16, 41.98s/it]"
     ]
    },
    {
     "name": "stdout",
     "output_type": "stream",
     "text": [
      "GAME DRAWN!!\n",
      "Model win ratio: 0.0\n",
      "GAME DRAWN!!\n",
      "Study Train Loss: 4.136401718045461\n"
     ]
    },
    {
     "name": "stderr",
     "output_type": "stream",
     "text": [
      " 22%|██▏       | 22/100 [11:16<51:04, 39.29s/it]"
     ]
    },
    {
     "name": "stdout",
     "output_type": "stream",
     "text": [
      "Mean Validation Loss: 3.9639554818471274, time elapsed: 0.7388132630003383 seconds\n",
      "GAME DRAWN!!\n",
      "Study Train Loss: 4.082086954587771\n"
     ]
    },
    {
     "name": "stderr",
     "output_type": "stream",
     "text": [
      " 23%|██▎       | 23/100 [11:55<50:18, 39.20s/it]"
     ]
    },
    {
     "name": "stdout",
     "output_type": "stream",
     "text": [
      "Mean Validation Loss: 3.9202361901601157, time elapsed: 0.762118468999688 seconds\n",
      "GAME DRAWN!!\n",
      "Study Train Loss: 4.008814682195215\n"
     ]
    },
    {
     "name": "stderr",
     "output_type": "stream",
     "text": [
      " 24%|██▍       | 24/100 [12:13<41:39, 32.88s/it]"
     ]
    },
    {
     "name": "stdout",
     "output_type": "stream",
     "text": [
      "Mean Validation Loss: 3.968998220231798, time elapsed: 0.5649591170003987 seconds\n",
      "GAME DRAWN!!\n",
      "Study Train Loss: 4.038962729183245\n"
     ]
    },
    {
     "name": "stderr",
     "output_type": "stream",
     "text": [
      " 25%|██▌       | 25/100 [12:44<40:32, 32.44s/it]"
     ]
    },
    {
     "name": "stdout",
     "output_type": "stream",
     "text": [
      "Mean Validation Loss: 3.7577611340416803, time elapsed: 0.6121175290027168 seconds\n",
      "GAME DRAWN!!\n",
      "Study Train Loss: 3.936007520298899\n"
     ]
    },
    {
     "name": "stderr",
     "output_type": "stream",
     "text": [
      " 26%|██▌       | 26/100 [12:58<33:08, 26.88s/it]"
     ]
    },
    {
     "name": "stdout",
     "output_type": "stream",
     "text": [
      "Mean Validation Loss: 3.9107540713416205, time elapsed: 0.6391940060057095 seconds\n",
      "GAME DRAWN!!\n",
      "Study Train Loss: 3.9297888426133136\n"
     ]
    },
    {
     "name": "stderr",
     "output_type": "stream",
     "text": [
      " 27%|██▋       | 27/100 [13:19<30:35, 25.15s/it]"
     ]
    },
    {
     "name": "stdout",
     "output_type": "stream",
     "text": [
      "Mean Validation Loss: 3.6771852705213757, time elapsed: 0.8034696440008702 seconds\n",
      "GAME DRAWN!!\n",
      "Study Train Loss: 3.942133835804316\n"
     ]
    },
    {
     "name": "stderr",
     "output_type": "stream",
     "text": [
      " 28%|██▊       | 28/100 [13:37<27:22, 22.82s/it]"
     ]
    },
    {
     "name": "stdout",
     "output_type": "stream",
     "text": [
      "Mean Validation Loss: 3.8432903024885388, time elapsed: 0.660912264000217 seconds\n",
      "GAME DRAWN!!\n",
      "Study Train Loss: 3.8663691238120745\n"
     ]
    },
    {
     "name": "stderr",
     "output_type": "stream",
     "text": [
      " 29%|██▉       | 29/100 [14:06<29:19, 24.78s/it]"
     ]
    },
    {
     "name": "stdout",
     "output_type": "stream",
     "text": [
      "Mean Validation Loss: 3.6336344612969294, time elapsed: 0.7967703550020815 seconds\n",
      "GAME DRAWN!!\n",
      "Study Train Loss: 3.8257728918099114\n"
     ]
    },
    {
     "name": "stderr",
     "output_type": "stream",
     "text": [
      " 30%|███       | 30/100 [14:33<29:38, 25.40s/it]"
     ]
    },
    {
     "name": "stdout",
     "output_type": "stream",
     "text": [
      "Mean Validation Loss: 3.9297505484686956, time elapsed: 0.6159773079998558 seconds\n",
      "GAME DRAWN!!\n",
      "Study Train Loss: 3.8653494104926973\n",
      "Mean Validation Loss: 3.6916041374206543, time elapsed: 0.6583252700002049 seconds\n",
      "GAME DRAWN!!\n",
      "GAME DRAWN!!\n",
      "GAME DRAWN!!\n",
      "GAME WON!!\n",
      "GAME DRAWN!!\n",
      "GAME DRAWN!!\n",
      "GAME DRAWN!!\n",
      "GAME DRAWN!!\n",
      "GAME DRAWN!!\n",
      "GAME DRAWN!!\n",
      "GAME DRAWN!!\n",
      "GAME DRAWN!!\n",
      "GAME DRAWN!!\n",
      "GAME DRAWN!!\n",
      "GAME DRAWN!!\n",
      "GAME DRAWN!!\n",
      "GAME DRAWN!!\n",
      "GAME DRAWN!!\n",
      "GAME DRAWN!!\n"
     ]
    },
    {
     "name": "stderr",
     "output_type": "stream",
     "text": [
      " 31%|███       | 31/100 [15:51<47:29, 41.29s/it]"
     ]
    },
    {
     "name": "stdout",
     "output_type": "stream",
     "text": [
      "GAME WON!!\n",
      "Model win ratio: 0.1\n",
      "GAME DRAWN!!\n",
      "Study Train Loss: 3.768473978395816\n"
     ]
    },
    {
     "name": "stderr",
     "output_type": "stream",
     "text": [
      " 32%|███▏      | 32/100 [16:15<40:51, 36.05s/it]"
     ]
    },
    {
     "name": "stdout",
     "output_type": "stream",
     "text": [
      "Mean Validation Loss: 3.5593880547417536, time elapsed: 0.5590081669943174 seconds\n",
      "GAME DRAWN!!\n",
      "Study Train Loss: 3.733806710184356\n"
     ]
    },
    {
     "name": "stderr",
     "output_type": "stream",
     "text": [
      " 33%|███▎      | 33/100 [16:33<34:18, 30.72s/it]"
     ]
    },
    {
     "name": "stdout",
     "output_type": "stream",
     "text": [
      "Mean Validation Loss: 3.6530706617567272, time elapsed: 0.5459816779984976 seconds\n",
      "GAME DRAWN!!\n",
      "Study Train Loss: 3.771535955829385\n"
     ]
    },
    {
     "name": "stderr",
     "output_type": "stream",
     "text": [
      " 34%|███▍      | 34/100 [16:50<29:09, 26.50s/it]"
     ]
    },
    {
     "name": "stdout",
     "output_type": "stream",
     "text": [
      "Mean Validation Loss: 3.61055228445265, time elapsed: 0.5470019380009035 seconds\n",
      "GAME DRAWN!!\n",
      "Study Train Loss: 3.7677975201312397\n"
     ]
    },
    {
     "name": "stderr",
     "output_type": "stream",
     "text": [
      " 35%|███▌      | 35/100 [17:00<23:25, 21.63s/it]"
     ]
    },
    {
     "name": "stdout",
     "output_type": "stream",
     "text": [
      "Mean Validation Loss: 3.313575797610813, time elapsed: 0.5314979830000084 seconds\n",
      "GAME DRAWN!!\n",
      "Study Train Loss: 3.707277068385371\n"
     ]
    },
    {
     "name": "stderr",
     "output_type": "stream",
     "text": [
      " 36%|███▌      | 36/100 [17:21<22:38, 21.23s/it]"
     ]
    },
    {
     "name": "stdout",
     "output_type": "stream",
     "text": [
      "Mean Validation Loss: 3.5288211504618325, time elapsed: 0.6063991839982918 seconds\n",
      "GAME WON!!\n",
      "Study Train Loss: 3.6271736445250338\n"
     ]
    },
    {
     "name": "stderr",
     "output_type": "stream",
     "text": [
      " 37%|███▋      | 37/100 [17:32<19:04, 18.16s/it]"
     ]
    },
    {
     "name": "stdout",
     "output_type": "stream",
     "text": [
      "Mean Validation Loss: 3.6398036744859485, time elapsed: 0.54029311100021 seconds\n",
      "GAME WON!!\n",
      "Study Train Loss: 3.6421766163390354\n"
     ]
    },
    {
     "name": "stderr",
     "output_type": "stream",
     "text": [
      " 38%|███▊      | 38/100 [17:40<15:47, 15.29s/it]"
     ]
    },
    {
     "name": "stdout",
     "output_type": "stream",
     "text": [
      "Mean Validation Loss: 3.542807181676229, time elapsed: 0.6138969499952509 seconds\n",
      "GAME DRAWN!!\n",
      "Study Train Loss: 3.5927691753999693\n"
     ]
    },
    {
     "name": "stderr",
     "output_type": "stream",
     "text": [
      " 39%|███▉      | 39/100 [17:53<14:44, 14.50s/it]"
     ]
    },
    {
     "name": "stdout",
     "output_type": "stream",
     "text": [
      "Mean Validation Loss: 3.5117511219448514, time elapsed: 0.5785063750008703 seconds\n",
      "GAME WON!!\n",
      "Study Train Loss: 3.6380597249961193\n"
     ]
    },
    {
     "name": "stderr",
     "output_type": "stream",
     "text": [
      " 40%|████      | 40/100 [18:05<13:53, 13.90s/it]"
     ]
    },
    {
     "name": "stdout",
     "output_type": "stream",
     "text": [
      "Mean Validation Loss: 3.3470612631903753, time elapsed: 0.6364815650013043 seconds\n",
      "GAME WON!!\n",
      "Study Train Loss: 3.5310141657605585\n",
      "Mean Validation Loss: 3.431538661321005, time elapsed: 0.7313856740001938 seconds\n",
      "GAME DRAWN!!\n",
      "GAME WON!!\n",
      "GAME DRAWN!!\n",
      "GAME DRAWN!!\n",
      "GAME WON!!\n",
      "GAME DRAWN!!\n",
      "GAME DRAWN!!\n",
      "GAME DRAWN!!\n",
      "GAME DRAWN!!\n",
      "GAME WON!!\n",
      "GAME WON!!\n",
      "GAME DRAWN!!\n",
      "GAME DRAWN!!\n",
      "GAME DRAWN!!\n",
      "GAME DRAWN!!\n",
      "GAME DRAWN!!\n",
      "GAME DRAWN!!\n",
      "GAME DRAWN!!\n",
      "GAME DRAWN!!\n"
     ]
    },
    {
     "name": "stderr",
     "output_type": "stream",
     "text": [
      " 41%|████      | 41/100 [19:30<34:25, 35.01s/it]"
     ]
    },
    {
     "name": "stdout",
     "output_type": "stream",
     "text": [
      "GAME WON!!\n",
      "Model win ratio: 0.15\n",
      "GAME DRAWN!!\n",
      "Study Train Loss: 3.5393664807449152\n"
     ]
    },
    {
     "name": "stderr",
     "output_type": "stream",
     "text": [
      " 42%|████▏     | 42/100 [19:54<30:38, 31.71s/it]"
     ]
    },
    {
     "name": "stdout",
     "output_type": "stream",
     "text": [
      "Mean Validation Loss: 3.4111664030287003, time elapsed: 0.7907685530008166 seconds\n",
      "GAME DRAWN!!\n",
      "Study Train Loss: 3.532204828144592\n"
     ]
    },
    {
     "name": "stderr",
     "output_type": "stream",
     "text": [
      " 43%|████▎     | 43/100 [20:06<24:40, 25.97s/it]"
     ]
    },
    {
     "name": "stdout",
     "output_type": "stream",
     "text": [
      "Mean Validation Loss: 3.3257098727756076, time elapsed: 0.804274827001791 seconds\n",
      "GAME WON!!\n",
      "Study Train Loss: 3.50891261924932\n"
     ]
    },
    {
     "name": "stderr",
     "output_type": "stream",
     "text": [
      " 44%|████▍     | 44/100 [20:19<20:32, 22.01s/it]"
     ]
    },
    {
     "name": "stdout",
     "output_type": "stream",
     "text": [
      "Mean Validation Loss: 3.15462244881524, time elapsed: 0.7427437939986703 seconds\n",
      "GAME DRAWN!!\n",
      "Study Train Loss: 3.4791917771468928\n"
     ]
    },
    {
     "name": "stderr",
     "output_type": "stream",
     "text": [
      " 45%|████▌     | 45/100 [20:51<22:54, 24.99s/it]"
     ]
    },
    {
     "name": "stdout",
     "output_type": "stream",
     "text": [
      "Mean Validation Loss: 3.250693294737074, time elapsed: 0.7002988169988384 seconds\n",
      "GAME DRAWN!!\n",
      "Study Train Loss: 3.4813458801787585\n"
     ]
    },
    {
     "name": "stderr",
     "output_type": "stream",
     "text": [
      " 46%|████▌     | 46/100 [21:11<21:08, 23.50s/it]"
     ]
    },
    {
     "name": "stdout",
     "output_type": "stream",
     "text": [
      "Mean Validation Loss: 3.5787561734517417, time elapsed: 0.8337386050043278 seconds\n",
      "GAME DRAWN!!\n",
      "Study Train Loss: 3.4785122783095748\n"
     ]
    },
    {
     "name": "stderr",
     "output_type": "stream",
     "text": [
      " 47%|████▋     | 47/100 [21:36<21:16, 24.09s/it]"
     ]
    },
    {
     "name": "stdout",
     "output_type": "stream",
     "text": [
      "Mean Validation Loss: 3.2325797080993652, time elapsed: 0.598090093000792 seconds\n",
      "GAME DRAWN!!\n",
      "Study Train Loss: 3.4606732497980564\n"
     ]
    },
    {
     "name": "stderr",
     "output_type": "stream",
     "text": [
      " 48%|████▊     | 48/100 [22:05<21:55, 25.31s/it]"
     ]
    },
    {
     "name": "stdout",
     "output_type": "stream",
     "text": [
      "Mean Validation Loss: 3.2344265249040394, time elapsed: 0.5644815470004687 seconds\n",
      "GAME DRAWN!!\n",
      "Study Train Loss: 3.434528094750864\n"
     ]
    },
    {
     "name": "stderr",
     "output_type": "stream",
     "text": [
      " 49%|████▉     | 49/100 [22:21<19:21, 22.77s/it]"
     ]
    },
    {
     "name": "stdout",
     "output_type": "stream",
     "text": [
      "Mean Validation Loss: 3.2852923605177136, time elapsed: 0.6287653819963452 seconds\n",
      "GAME WON!!\n",
      "Study Train Loss: 3.382026130770457\n"
     ]
    },
    {
     "name": "stderr",
     "output_type": "stream",
     "text": [
      " 50%|█████     | 50/100 [22:37<17:14, 20.69s/it]"
     ]
    },
    {
     "name": "stdout",
     "output_type": "stream",
     "text": [
      "Mean Validation Loss: 3.187950902514988, time elapsed: 0.6192941660046927 seconds\n",
      "GAME DRAWN!!\n",
      "Study Train Loss: 3.306833791144101\n",
      "Mean Validation Loss: 3.0728099346160893, time elapsed: 0.6350240200044937 seconds\n",
      "GAME DRAWN!!\n",
      "GAME DRAWN!!\n",
      "GAME DRAWN!!\n",
      "GAME DRAWN!!\n",
      "GAME DRAWN!!\n",
      "GAME DRAWN!!\n",
      "GAME DRAWN!!\n",
      "GAME DRAWN!!\n",
      "GAME DRAWN!!\n",
      "GAME DRAWN!!\n",
      "GAME DRAWN!!\n",
      "GAME DRAWN!!\n",
      "GAME DRAWN!!\n",
      "GAME DRAWN!!\n",
      "GAME DRAWN!!\n",
      "GAME DRAWN!!\n",
      "GAME WON!!\n",
      "GAME DRAWN!!\n",
      "GAME DRAWN!!\n"
     ]
    },
    {
     "name": "stderr",
     "output_type": "stream",
     "text": [
      " 51%|█████     | 51/100 [24:13<35:22, 43.31s/it]"
     ]
    },
    {
     "name": "stdout",
     "output_type": "stream",
     "text": [
      "GAME DRAWN!!\n",
      "Model win ratio: 0.0\n",
      "GAME DRAWN!!\n",
      "Study Train Loss: 3.437899845617788\n"
     ]
    },
    {
     "name": "stderr",
     "output_type": "stream",
     "text": [
      " 52%|█████▏    | 52/100 [24:34<29:18, 36.64s/it]"
     ]
    },
    {
     "name": "stdout",
     "output_type": "stream",
     "text": [
      "Mean Validation Loss: 3.0887071821424694, time elapsed: 0.6436160869998275 seconds\n",
      "GAME DRAWN!!\n",
      "Study Train Loss: 3.363352163338367\n"
     ]
    },
    {
     "name": "stderr",
     "output_type": "stream",
     "text": [
      " 53%|█████▎    | 53/100 [24:49<23:34, 30.09s/it]"
     ]
    },
    {
     "name": "stdout",
     "output_type": "stream",
     "text": [
      "Mean Validation Loss: 3.146557569503784, time elapsed: 0.6254166060025454 seconds\n",
      "GAME DRAWN!!\n",
      "Study Train Loss: 3.3070176883980076\n"
     ]
    },
    {
     "name": "stderr",
     "output_type": "stream",
     "text": [
      " 54%|█████▍    | 54/100 [25:16<22:18, 29.10s/it]"
     ]
    },
    {
     "name": "stdout",
     "output_type": "stream",
     "text": [
      "Mean Validation Loss: 3.10556607776218, time elapsed: 0.6230615410022438 seconds\n",
      "GAME DRAWN!!\n",
      "Study Train Loss: 3.329554066245937\n"
     ]
    },
    {
     "name": "stderr",
     "output_type": "stream",
     "text": [
      " 55%|█████▌    | 55/100 [25:35<19:38, 26.19s/it]"
     ]
    },
    {
     "name": "stdout",
     "output_type": "stream",
     "text": [
      "Mean Validation Loss: 3.17511608865526, time elapsed: 0.6282673519963282 seconds\n",
      "GAME WON!!\n",
      "Study Train Loss: 3.2408355194845315\n"
     ]
    },
    {
     "name": "stderr",
     "output_type": "stream",
     "text": [
      " 56%|█████▌    | 56/100 [25:46<15:52, 21.65s/it]"
     ]
    },
    {
     "name": "stdout",
     "output_type": "stream",
     "text": [
      "Mean Validation Loss: 3.217780696021186, time elapsed: 0.6709776529969531 seconds\n",
      "GAME DRAWN!!\n",
      "Study Train Loss: 3.2506632186748363\n"
     ]
    },
    {
     "name": "stderr",
     "output_type": "stream",
     "text": [
      " 57%|█████▋    | 57/100 [26:07<15:18, 21.36s/it]"
     ]
    },
    {
     "name": "stdout",
     "output_type": "stream",
     "text": [
      "Mean Validation Loss: 3.009931961695353, time elapsed: 0.7143355210064328 seconds\n",
      "GAME DRAWN!!\n",
      "Study Train Loss: 3.2399378970817283\n"
     ]
    },
    {
     "name": "stderr",
     "output_type": "stream",
     "text": [
      " 58%|█████▊    | 58/100 [26:28<14:55, 21.31s/it]"
     ]
    },
    {
     "name": "stdout",
     "output_type": "stream",
     "text": [
      "Mean Validation Loss: 3.192462205886841, time elapsed: 0.7386746769989259 seconds\n",
      "GAME DRAWN!!\n",
      "Study Train Loss: 3.219036008104866\n"
     ]
    },
    {
     "name": "stderr",
     "output_type": "stream",
     "text": [
      " 59%|█████▉    | 59/100 [26:51<14:46, 21.62s/it]"
     ]
    },
    {
     "name": "stdout",
     "output_type": "stream",
     "text": [
      "Mean Validation Loss: 3.027945068147447, time elapsed: 0.5246492560036131 seconds\n",
      "GAME DRAWN!!\n",
      "Study Train Loss: 3.2360381020439997\n"
     ]
    },
    {
     "name": "stderr",
     "output_type": "stream",
     "text": [
      " 60%|██████    | 60/100 [27:14<14:49, 22.24s/it]"
     ]
    },
    {
     "name": "stdout",
     "output_type": "stream",
     "text": [
      "Mean Validation Loss: 3.1365944014655214, time elapsed: 0.5979850430012448 seconds\n",
      "GAME DRAWN!!\n",
      "Study Train Loss: 3.23448779259199\n",
      "Mean Validation Loss: 2.964666578504774, time elapsed: 0.6428910380054731 seconds\n",
      "GAME DRAWN!!\n",
      "GAME DRAWN!!\n",
      "GAME DRAWN!!\n",
      "GAME DRAWN!!\n",
      "GAME DRAWN!!\n",
      "GAME DRAWN!!\n",
      "GAME DRAWN!!\n",
      "GAME WON!!\n",
      "GAME DRAWN!!\n",
      "GAME DRAWN!!\n",
      "GAME DRAWN!!\n",
      "GAME DRAWN!!\n",
      "GAME DRAWN!!\n",
      "GAME DRAWN!!\n",
      "GAME WON!!\n",
      "GAME DRAWN!!\n",
      "GAME WON!!\n",
      "GAME DRAWN!!\n",
      "GAME DRAWN!!\n"
     ]
    },
    {
     "name": "stderr",
     "output_type": "stream",
     "text": [
      " 61%|██████    | 61/100 [28:41<26:56, 41.44s/it]"
     ]
    },
    {
     "name": "stdout",
     "output_type": "stream",
     "text": [
      "GAME DRAWN!!\n",
      "Model win ratio: 0.05\n",
      "GAME DRAWN!!\n",
      "Study Train Loss: 3.2078578060055953\n"
     ]
    },
    {
     "name": "stderr",
     "output_type": "stream",
     "text": [
      " 62%|██████▏   | 62/100 [28:54<20:56, 33.07s/it]"
     ]
    },
    {
     "name": "stdout",
     "output_type": "stream",
     "text": [
      "Mean Validation Loss: 3.299382209777832, time elapsed: 0.5557886070018867 seconds\n",
      "GAME DRAWN!!\n",
      "Study Train Loss: 3.1276647367595167\n"
     ]
    },
    {
     "name": "stderr",
     "output_type": "stream",
     "text": [
      " 63%|██████▎   | 63/100 [29:10<17:12, 27.90s/it]"
     ]
    },
    {
     "name": "stdout",
     "output_type": "stream",
     "text": [
      "Mean Validation Loss: 3.0902777512868247, time elapsed: 0.5793064530007541 seconds\n",
      "GAME WON!!\n",
      "Study Train Loss: 3.1261061827341705\n"
     ]
    },
    {
     "name": "stderr",
     "output_type": "stream",
     "text": [
      " 64%|██████▍   | 64/100 [29:20<13:28, 22.45s/it]"
     ]
    },
    {
     "name": "stdout",
     "output_type": "stream",
     "text": [
      "Mean Validation Loss: 2.928077644772, time elapsed: 0.5785120099972119 seconds\n",
      "GAME DRAWN!!\n",
      "Study Train Loss: 3.111450739848761\n"
     ]
    },
    {
     "name": "stderr",
     "output_type": "stream",
     "text": [
      " 65%|██████▌   | 65/100 [29:39<12:33, 21.52s/it]"
     ]
    },
    {
     "name": "stdout",
     "output_type": "stream",
     "text": [
      "Mean Validation Loss: 2.9420832792917886, time elapsed: 0.3006833679974079 seconds\n",
      "GAME DRAWN!!\n",
      "Study Train Loss: 3.111619395974242\n"
     ]
    },
    {
     "name": "stderr",
     "output_type": "stream",
     "text": [
      " 66%|██████▌   | 66/100 [30:01<12:11, 21.51s/it]"
     ]
    },
    {
     "name": "stdout",
     "output_type": "stream",
     "text": [
      "Mean Validation Loss: 2.7914616796705456, time elapsed: 0.4995485350009403 seconds\n",
      "GAME DRAWN!!\n",
      "Study Train Loss: 3.125414038881843\n"
     ]
    },
    {
     "name": "stderr",
     "output_type": "stream",
     "text": [
      " 67%|██████▋   | 67/100 [30:15<10:38, 19.35s/it]"
     ]
    },
    {
     "name": "stdout",
     "output_type": "stream",
     "text": [
      "Mean Validation Loss: 3.0079349411858454, time elapsed: 0.5837266919988906 seconds\n",
      "GAME DRAWN!!\n",
      "Study Train Loss: 3.038360734044769\n"
     ]
    },
    {
     "name": "stderr",
     "output_type": "stream",
     "text": [
      " 68%|██████▊   | 68/100 [30:40<11:15, 21.12s/it]"
     ]
    },
    {
     "name": "stdout",
     "output_type": "stream",
     "text": [
      "Mean Validation Loss: 2.9303864902920194, time elapsed: 0.5517666460000328 seconds\n",
      "GAME DRAWN!!\n",
      "Study Train Loss: 3.0730804484567518\n"
     ]
    },
    {
     "name": "stderr",
     "output_type": "stream",
     "text": [
      " 69%|██████▉   | 69/100 [30:55<10:00, 19.36s/it]"
     ]
    },
    {
     "name": "stdout",
     "output_type": "stream",
     "text": [
      "Mean Validation Loss: 2.875299745135837, time elapsed: 0.54984855800285 seconds\n",
      "GAME DRAWN!!\n",
      "Study Train Loss: 3.0209083380522563\n"
     ]
    },
    {
     "name": "stderr",
     "output_type": "stream",
     "text": [
      " 70%|███████   | 70/100 [31:11<09:08, 18.28s/it]"
     ]
    },
    {
     "name": "stdout",
     "output_type": "stream",
     "text": [
      "Mean Validation Loss: 3.0406245390574136, time elapsed: 0.5316947649989743 seconds\n",
      "GAME DRAWN!!\n",
      "Study Train Loss: 3.0590053899788563\n",
      "Mean Validation Loss: 2.932081937789917, time elapsed: 0.5763289320020704 seconds\n",
      "GAME DRAWN!!\n",
      "GAME DRAWN!!\n",
      "GAME WON!!\n",
      "GAME WON!!\n",
      "GAME DRAWN!!\n",
      "GAME WON!!\n",
      "GAME DRAWN!!\n",
      "GAME DRAWN!!\n",
      "GAME DRAWN!!\n",
      "GAME DRAWN!!\n",
      "GAME DRAWN!!\n",
      "GAME DRAWN!!\n",
      "GAME DRAWN!!\n",
      "GAME WON!!\n",
      "GAME DRAWN!!\n",
      "GAME DRAWN!!\n",
      "GAME DRAWN!!\n",
      "GAME DRAWN!!\n",
      "GAME WON!!\n"
     ]
    },
    {
     "name": "stderr",
     "output_type": "stream",
     "text": [
      " 71%|███████   | 71/100 [32:32<17:57, 37.15s/it]"
     ]
    },
    {
     "name": "stdout",
     "output_type": "stream",
     "text": [
      "GAME WON!!\n",
      "Model win ratio: 0.2\n",
      "GAME WON!!\n",
      "Study Train Loss: 3.032985163323673\n"
     ]
    },
    {
     "name": "stderr",
     "output_type": "stream",
     "text": [
      " 72%|███████▏  | 72/100 [32:44<13:43, 29.43s/it]"
     ]
    },
    {
     "name": "stdout",
     "output_type": "stream",
     "text": [
      "Mean Validation Loss: 2.810455057356093, time elapsed: 0.6297539070001221 seconds\n",
      "GAME DRAWN!!\n",
      "Study Train Loss: 2.9952516379179777\n"
     ]
    },
    {
     "name": "stderr",
     "output_type": "stream",
     "text": [
      " 73%|███████▎  | 73/100 [32:54<10:38, 23.65s/it]"
     ]
    },
    {
     "name": "stdout",
     "output_type": "stream",
     "text": [
      "Mean Validation Loss: 2.9641937414805093, time elapsed: 0.691476659005275 seconds\n",
      "GAME DRAWN!!\n",
      "Study Train Loss: 2.977288458082411\n"
     ]
    },
    {
     "name": "stderr",
     "output_type": "stream",
     "text": [
      " 74%|███████▍  | 74/100 [33:16<10:01, 23.14s/it]"
     ]
    },
    {
     "name": "stdout",
     "output_type": "stream",
     "text": [
      "Mean Validation Loss: 2.726882881588406, time elapsed: 0.6695245199953206 seconds\n",
      "GAME DRAWN!!\n",
      "Study Train Loss: 2.991537205966902\n"
     ]
    },
    {
     "name": "stderr",
     "output_type": "stream",
     "text": [
      " 75%|███████▌  | 75/100 [33:40<09:48, 23.52s/it]"
     ]
    },
    {
     "name": "stdout",
     "output_type": "stream",
     "text": [
      "Mean Validation Loss: 2.876691155963474, time elapsed: 0.6499478690020624 seconds\n",
      "GAME WON!!\n",
      "Study Train Loss: 2.9280013361094914\n"
     ]
    },
    {
     "name": "stderr",
     "output_type": "stream",
     "text": [
      " 76%|███████▌  | 76/100 [33:58<08:42, 21.79s/it]"
     ]
    },
    {
     "name": "stdout",
     "output_type": "stream",
     "text": [
      "Mean Validation Loss: 2.84123248524136, time elapsed: 0.7046052169971517 seconds\n",
      "GAME DRAWN!!\n",
      "Study Train Loss: 2.930615745944742\n"
     ]
    },
    {
     "name": "stderr",
     "output_type": "stream",
     "text": [
      " 77%|███████▋  | 77/100 [34:23<08:45, 22.86s/it]"
     ]
    },
    {
     "name": "stdout",
     "output_type": "stream",
     "text": [
      "Mean Validation Loss: 2.6840368111928306, time elapsed: 0.6339149900013581 seconds\n",
      "GAME DRAWN!!\n",
      "Study Train Loss: 2.9177232200716765\n"
     ]
    },
    {
     "name": "stderr",
     "output_type": "stream",
     "text": [
      " 78%|███████▊  | 78/100 [34:49<08:44, 23.83s/it]"
     ]
    },
    {
     "name": "stdout",
     "output_type": "stream",
     "text": [
      "Mean Validation Loss: 2.6756590207417807, time elapsed: 0.6669480670025223 seconds\n",
      "GAME DRAWN!!\n",
      "Study Train Loss: 2.906307750278048\n"
     ]
    },
    {
     "name": "stderr",
     "output_type": "stream",
     "text": [
      " 79%|███████▉  | 79/100 [35:07<07:42, 22.00s/it]"
     ]
    },
    {
     "name": "stdout",
     "output_type": "stream",
     "text": [
      "Mean Validation Loss: 2.7790476746029324, time elapsed: 0.5885795220019645 seconds\n",
      "GAME DRAWN!!\n",
      "Study Train Loss: 2.8317406560167844\n"
     ]
    },
    {
     "name": "stderr",
     "output_type": "stream",
     "text": [
      " 80%|████████  | 80/100 [35:32<07:39, 23.00s/it]"
     ]
    },
    {
     "name": "stdout",
     "output_type": "stream",
     "text": [
      "Mean Validation Loss: 2.636542664633857, time elapsed: 0.6727622889957274 seconds\n",
      "GAME DRAWN!!\n",
      "Study Train Loss: 2.89491938072958\n",
      "Mean Validation Loss: 2.7820810741848416, time elapsed: 0.7031255740002962 seconds\n",
      "GAME DRAWN!!\n",
      "GAME WON!!\n",
      "GAME DRAWN!!\n",
      "GAME DRAWN!!\n",
      "GAME DRAWN!!\n",
      "GAME DRAWN!!\n",
      "GAME DRAWN!!\n",
      "GAME DRAWN!!\n",
      "GAME DRAWN!!\n",
      "GAME DRAWN!!\n",
      "GAME DRAWN!!\n",
      "GAME DRAWN!!\n",
      "GAME DRAWN!!\n",
      "GAME WON!!\n",
      "GAME DRAWN!!\n",
      "GAME WON!!\n",
      "GAME DRAWN!!\n",
      "GAME DRAWN!!\n",
      "GAME DRAWN!!\n"
     ]
    },
    {
     "name": "stderr",
     "output_type": "stream",
     "text": [
      " 81%|████████  | 81/100 [37:31<16:21, 51.65s/it]"
     ]
    },
    {
     "name": "stdout",
     "output_type": "stream",
     "text": [
      "GAME WON!!\n",
      "Model win ratio: 0.2\n",
      "GAME WON!!\n",
      "Study Train Loss: 2.865816160484597\n"
     ]
    },
    {
     "name": "stderr",
     "output_type": "stream",
     "text": [
      " 82%|████████▏ | 82/100 [37:41<11:46, 39.27s/it]"
     ]
    },
    {
     "name": "stdout",
     "output_type": "stream",
     "text": [
      "Mean Validation Loss: 2.6466915607452393, time elapsed: 0.6950926060017082 seconds\n",
      "GAME DRAWN!!\n",
      "Study Train Loss: 2.825404523331442\n"
     ]
    },
    {
     "name": "stderr",
     "output_type": "stream",
     "text": [
      " 83%|████████▎ | 83/100 [37:53<08:45, 30.90s/it]"
     ]
    },
    {
     "name": "stdout",
     "output_type": "stream",
     "text": [
      "Mean Validation Loss: 2.638578176498413, time elapsed: 0.7028089579980588 seconds\n",
      "GAME WON!!\n",
      "Study Train Loss: 2.7850247871728584\n"
     ]
    },
    {
     "name": "stderr",
     "output_type": "stream",
     "text": [
      " 84%|████████▍ | 84/100 [38:00<06:23, 23.95s/it]"
     ]
    },
    {
     "name": "stdout",
     "output_type": "stream",
     "text": [
      "Mean Validation Loss: 2.7046921253204346, time elapsed: 0.6889952509955037 seconds\n",
      "GAME WON!!\n",
      "Study Train Loss: 2.8197515584804385\n"
     ]
    },
    {
     "name": "stderr",
     "output_type": "stream",
     "text": [
      " 85%|████████▌ | 85/100 [38:11<04:58, 19.92s/it]"
     ]
    },
    {
     "name": "stdout",
     "output_type": "stream",
     "text": [
      "Mean Validation Loss: 2.873505062527127, time elapsed: 0.7010876709973672 seconds\n",
      "GAME DRAWN!!\n",
      "Study Train Loss: 2.883064908745848\n"
     ]
    },
    {
     "name": "stderr",
     "output_type": "stream",
     "text": [
      " 86%|████████▌ | 86/100 [38:32<04:45, 20.36s/it]"
     ]
    },
    {
     "name": "stdout",
     "output_type": "stream",
     "text": [
      "Mean Validation Loss: 2.751083427005344, time elapsed: 0.7032586759960395 seconds\n",
      "GAME DRAWN!!\n",
      "Study Train Loss: 2.8338919598379246\n"
     ]
    },
    {
     "name": "stderr",
     "output_type": "stream",
     "text": [
      " 87%|████████▋ | 87/100 [38:56<04:38, 21.44s/it]"
     ]
    },
    {
     "name": "stdout",
     "output_type": "stream",
     "text": [
      "Mean Validation Loss: 2.6160704029930963, time elapsed: 0.7074426070030313 seconds\n",
      "GAME DRAWN!!\n",
      "Study Train Loss: 2.750749952999162\n"
     ]
    },
    {
     "name": "stderr",
     "output_type": "stream",
     "text": [
      " 88%|████████▊ | 88/100 [39:14<04:03, 20.26s/it]"
     ]
    },
    {
     "name": "stdout",
     "output_type": "stream",
     "text": [
      "Mean Validation Loss: 2.6705658965640597, time elapsed: 0.6999074999985169 seconds\n",
      "GAME DRAWN!!\n",
      "Study Train Loss: 2.834833392390499\n"
     ]
    },
    {
     "name": "stderr",
     "output_type": "stream",
     "text": [
      " 89%|████████▉ | 89/100 [39:41<04:05, 22.28s/it]"
     ]
    },
    {
     "name": "stdout",
     "output_type": "stream",
     "text": [
      "Mean Validation Loss: 2.367328855726454, time elapsed: 0.6823768370013568 seconds\n",
      "GAME DRAWN!!\n",
      "Study Train Loss: 2.6765351604532315\n"
     ]
    },
    {
     "name": "stderr",
     "output_type": "stream",
     "text": [
      " 90%|█████████ | 90/100 [40:06<03:52, 23.22s/it]"
     ]
    },
    {
     "name": "stdout",
     "output_type": "stream",
     "text": [
      "Mean Validation Loss: 2.5924169222513833, time elapsed: 0.6553051950031659 seconds\n",
      "GAME WON!!\n",
      "Study Train Loss: 2.732386318253882\n",
      "Mean Validation Loss: 2.744493007659912, time elapsed: 0.7191358440031763 seconds\n",
      "GAME DRAWN!!\n",
      "GAME DRAWN!!\n",
      "GAME DRAWN!!\n",
      "GAME DRAWN!!\n",
      "GAME DRAWN!!\n",
      "GAME DRAWN!!\n",
      "GAME DRAWN!!\n",
      "GAME DRAWN!!\n",
      "GAME DRAWN!!\n",
      "GAME DRAWN!!\n",
      "GAME DRAWN!!\n",
      "GAME DRAWN!!\n",
      "GAME DRAWN!!\n",
      "GAME DRAWN!!\n",
      "GAME DRAWN!!\n",
      "GAME WON!!\n",
      "GAME DRAWN!!\n",
      "GAME DRAWN!!\n",
      "GAME DRAWN!!\n"
     ]
    },
    {
     "name": "stderr",
     "output_type": "stream",
     "text": [
      " 91%|█████████ | 91/100 [41:45<06:53, 45.97s/it]"
     ]
    },
    {
     "name": "stdout",
     "output_type": "stream",
     "text": [
      "GAME DRAWN!!\n",
      "Model win ratio: 0.05\n",
      "GAME DRAWN!!\n",
      "Study Train Loss: 2.789892017105479\n"
     ]
    },
    {
     "name": "stderr",
     "output_type": "stream",
     "text": [
      " 92%|█████████▏| 92/100 [42:05<05:05, 38.21s/it]"
     ]
    },
    {
     "name": "stdout",
     "output_type": "stream",
     "text": [
      "Mean Validation Loss: 2.4997832245296903, time elapsed: 0.6104411119958968 seconds\n",
      "GAME DRAWN!!\n",
      "Study Train Loss: 2.7466884130313067\n"
     ]
    },
    {
     "name": "stderr",
     "output_type": "stream",
     "text": [
      " 93%|█████████▎| 93/100 [42:25<03:48, 32.60s/it]"
     ]
    },
    {
     "name": "stdout",
     "output_type": "stream",
     "text": [
      "Mean Validation Loss: 2.567388508054945, time elapsed: 0.8197006469999906 seconds\n",
      "GAME DRAWN!!\n",
      "Study Train Loss: 2.694831071076569\n"
     ]
    },
    {
     "name": "stderr",
     "output_type": "stream",
     "text": [
      " 94%|█████████▍| 94/100 [42:54<03:08, 31.47s/it]"
     ]
    },
    {
     "name": "stdout",
     "output_type": "stream",
     "text": [
      "Mean Validation Loss: 2.4596804512871633, time elapsed: 0.7396834360042703 seconds\n",
      "GAME DRAWN!!\n",
      "Study Train Loss: 2.6580091552969867\n"
     ]
    },
    {
     "name": "stderr",
     "output_type": "stream",
     "text": [
      " 95%|█████████▌| 95/100 [43:16<02:23, 28.73s/it]"
     ]
    },
    {
     "name": "stdout",
     "output_type": "stream",
     "text": [
      "Mean Validation Loss: 2.595542430877685, time elapsed: 0.7861987750002299 seconds\n",
      "GAME DRAWN!!\n",
      "Study Train Loss: 2.669498863043608\n"
     ]
    },
    {
     "name": "stderr",
     "output_type": "stream",
     "text": [
      " 96%|█████████▌| 96/100 [43:40<01:49, 27.36s/it]"
     ]
    },
    {
     "name": "stdout",
     "output_type": "stream",
     "text": [
      "Mean Validation Loss: 2.5999159945382013, time elapsed: 0.7055649530011578 seconds\n",
      "GAME WON!!\n",
      "Study Train Loss: 2.7157588476016197\n"
     ]
    },
    {
     "name": "stderr",
     "output_type": "stream",
     "text": [
      " 97%|█████████▋| 97/100 [43:53<01:08, 22.93s/it]"
     ]
    },
    {
     "name": "stdout",
     "output_type": "stream",
     "text": [
      "Mean Validation Loss: 2.345960643556383, time elapsed: 0.6949995739996666 seconds\n",
      "GAME WON!!\n",
      "Study Train Loss: 2.6276948569733407\n"
     ]
    },
    {
     "name": "stderr",
     "output_type": "stream",
     "text": [
      " 98%|█████████▊| 98/100 [44:04<00:39, 19.55s/it]"
     ]
    },
    {
     "name": "stdout",
     "output_type": "stream",
     "text": [
      "Mean Validation Loss: 2.4579917589823403, time elapsed: 0.7240242990010302 seconds\n",
      "GAME DRAWN!!\n",
      "Study Train Loss: 2.61080711123384\n"
     ]
    },
    {
     "name": "stderr",
     "output_type": "stream",
     "text": [
      " 99%|█████████▉| 99/100 [44:18<00:17, 17.75s/it]"
     ]
    },
    {
     "name": "stdout",
     "output_type": "stream",
     "text": [
      "Mean Validation Loss: 2.5171647601657443, time elapsed: 0.7098035700037144 seconds\n",
      "GAME DRAWN!!\n",
      "Study Train Loss: 2.6274128033791055\n"
     ]
    },
    {
     "name": "stderr",
     "output_type": "stream",
     "text": [
      "100%|██████████| 100/100 [44:44<00:00, 26.84s/it]"
     ]
    },
    {
     "name": "stdout",
     "output_type": "stream",
     "text": [
      "Mean Validation Loss: 2.344901031917996, time elapsed: 0.7098856519951369 seconds\n"
     ]
    },
    {
     "name": "stderr",
     "output_type": "stream",
     "text": [
      "\n"
     ]
    }
   ],
   "source": [
    "# def generate_rewards(game_reward, game_length, self_play = False):\n",
    "\n",
    "# grad_scaler = GradScaler()\n",
    "\n",
    "\n",
    "for i in tqdm(range(NUM_EPOCHS)):\n",
    "    # Play games as white or black against the previous best model\n",
    "    if i % 2 == 0:\n",
    "        obs, _, log_probs, reward = play_game(env, model, best_model, perspective=chess.WHITE, sample_n=3)\n",
    "    else:\n",
    "        obs, _, log_probs, reward = play_game(env, best_model, model, perspective=chess.BLACK, sample_n=3)\n",
    "    \n",
    "    # Discount the reward backwards and update\n",
    "    if reward == 1:\n",
    "        rewards = list(reversed([(0.995**i)*reward for i in range(len(log_probs))]))\n",
    "    else:\n",
    "        rewards = [0] * len(log_probs)\n",
    "    \n",
    "    model.update_policy(log_probs, rewards)\n",
    "\n",
    "    # Expert Study\n",
    "    # if i % STUDY_EVERY == 0:\n",
    "    if True:\n",
    "        expert_study(model, chess_dataset, percent_dataset=0.05)\n",
    "\n",
    "    # Duel to the death\n",
    "    if i % DUEL_EVERY == 0:\n",
    "        win_ratio = duel(env, best_model, model, num_rounds=10)\n",
    "        print(f\"Model win ratio: {win_ratio}\")\n",
    "        if win_ratio > 0.6:\n",
    "            print(\"Best model was deafeted!\")\n",
    "            best_model = copy.deepcopy(model)\n",
    "            torch.save(model.state_dict(), MODEL_SAVEPATH)\n",
    "            best_model.eval()\n",
    "\n",
    "    # # Self play\n",
    "    # obss, actions, log_probs, reward = play_game(env, model, model, perspective=None)\n",
    "    # model.update_policy(model, log_probs, rewards)"
   ]
  }
 ],
 "metadata": {
  "kernelspec": {
   "display_name": "Python 3",
   "language": "python",
   "name": "python3"
  },
  "language_info": {
   "codemirror_mode": {
    "name": "ipython",
    "version": 3
   },
   "file_extension": ".py",
   "mimetype": "text/x-python",
   "name": "python",
   "nbconvert_exporter": "python",
   "pygments_lexer": "ipython3",
   "version": "3.10.12"
  },
  "orig_nbformat": 4
 },
 "nbformat": 4,
 "nbformat_minor": 2
}
