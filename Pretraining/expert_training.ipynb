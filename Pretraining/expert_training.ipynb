{
 "cells": [
  {
   "cell_type": "markdown",
   "metadata": {},
   "source": [
    "## Training a ChessNet42069 model"
   ]
  },
  {
   "cell_type": "code",
   "execution_count": 1,
   "metadata": {},
   "outputs": [
    {
     "name": "stderr",
     "output_type": "stream",
     "text": [
      "/home/kage/.local/lib/python3.10/site-packages/tqdm/auto.py:22: TqdmWarning: IProgress not found. Please update jupyter and ipywidgets. See https://ipywidgets.readthedocs.io/en/stable/user_install.html\n",
      "  from .autonotebook import tqdm as notebook_tqdm\n"
     ]
    }
   ],
   "source": [
    "import time, os\n",
    "import wandb\n",
    "\n",
    "import chess\n",
    "import chess.pgn\n",
    "\n",
    "import torch\n",
    "from torch.utils.data import Dataset, DataLoader\n",
    "from torch.cuda.amp import GradScaler\n",
    "from torch.cuda.amp import autocast\n",
    "from torch.utils.data import random_split\n",
    "\n",
    "from OBM_ChessNetwork import Chess42069Network\n",
    "\n",
    "import sys\n",
    "sys.path.append('../../chess_utils')\n",
    "from chess_dataset import ChessDataset\n",
    "from utils import RunningAverage\n",
    "from adversarial_gym.chess_env import ChessEnv\n"
   ]
  },
  {
   "cell_type": "code",
   "execution_count": 2,
   "metadata": {},
   "outputs": [
    {
     "name": "stdout",
     "output_type": "stream",
     "text": [
      "28575\n",
      "Loaded dataset in 1.4688244780008972 seconds\n"
     ]
    }
   ],
   "source": [
    "# PGN_FILE = \"/home/kage/chess_workspace/PGN-data/pgncombined/COMBINED.pgn\"\n",
    "PGN_FILE = \"/home/kage/chess_workspace/PGN-data/alphazero_stockfish_all/alphazero_vs_stockfish_all.pgn\"\n",
    "NUM_EPOCH = 1\n",
    "\n",
    "t1 = time.perf_counter()\n",
    "\n",
    "# Load the datasets\n",
    "chess_dataset = ChessDataset(PGN_FILE)\n",
    "print(len(chess_dataset))\n",
    "\n",
    "# Define a ratio for your train/validation split\n",
    "train_ratio = 0.9\n",
    "train_size = int(train_ratio * len(chess_dataset))\n",
    "val_size = len(chess_dataset) - train_size\n",
    "\n",
    "# Split the dataset\n",
    "train_dataset, val_dataset = random_split(chess_dataset, [train_size, val_size])\n",
    "\n",
    "# Create data loaders for the training and validation sets\n",
    "train_loader = DataLoader(train_dataset, batch_size=16, shuffle=True, \n",
    "                          pin_memory=False, num_workers=2)\n",
    "val_loader = DataLoader(val_dataset, batch_size=16, shuffle=False, \n",
    "                        pin_memory=False, num_workers=2)\n",
    "\n",
    "print(f\"Loaded dataset in {time.perf_counter() - t1} seconds\")\n"
   ]
  },
  {
   "cell_type": "markdown",
   "metadata": {},
   "source": [
    "Training a ChessNetwork (values and actions)"
   ]
  },
  {
   "cell_type": "code",
   "execution_count": 3,
   "metadata": {},
   "outputs": [],
   "source": [
    "# Initialize model\n",
    "MODEL_PATH = 'SwinChessNet42069.pt'\n",
    "\n",
    "model = Chess42069NetworkSimple(hidden_dim=256)\n",
    "if os.path.exists(MODEL_PATH):\n",
    "    print(\"Loading model at: {MODEL_PATH}\")\n",
    "    model.load_state_dict(torch.load(MODEL_PATH))\n",
    "\n",
    "model = model.to('cuda' if torch.cuda.is_available() else 'cpu')"
   ]
  },
  {
   "cell_type": "code",
   "execution_count": 4,
   "metadata": {},
   "outputs": [],
   "source": [
    "def run_validation(model, val_loader, stats):\n",
    "    model.eval()\n",
    "    stats.reset(\"val_loss\")\n",
    "    t1 = time.perf_counter()\n",
    "    with torch.no_grad():\n",
    "        for i, (state, turn, action, result) in enumerate(val_loader):\n",
    "            state = state.float().to('cuda' if torch.cuda.is_available() else 'cpu')\n",
    "            action = action.to('cuda' if torch.cuda.is_available() else 'cpu')\n",
    "            result = result.float().to('cuda' if torch.cuda.is_available() else 'cpu')\n",
    "\n",
    "            result[turn==0] *= -1\n",
    "            \n",
    "            policy_output, value_output = model(state.unsqueeze(1))\n",
    "            policy_loss = model.policy_loss(policy_output.squeeze(), action)\n",
    "            value_loss = model.val_loss(value_output.squeeze(), result)\n",
    "            \n",
    "            loss = policy_loss + value_loss\n",
    "            stats.update(\"val_loss\", loss.item())\n",
    "    \n",
    "    print(f\"Mean Validation Loss: {stats.get_average('val_loss')}, time elapsed: {time.perf_counter()-t1} seconds\")\n",
    "    return stats.get_average('val_loss')"
   ]
  },
  {
   "cell_type": "code",
   "execution_count": 5,
   "metadata": {},
   "outputs": [
    {
     "name": "stderr",
     "output_type": "stream",
     "text": [
      "Failed to detect the name of this notebook, you can set it manually with the WANDB_NOTEBOOK_NAME environment variable to enable code saving.\n",
      "\u001b[34m\u001b[1mwandb\u001b[0m: Currently logged in as: \u001b[33mkeithg33\u001b[0m (\u001b[33mopen_sim2real\u001b[0m). Use \u001b[1m`wandb login --relogin`\u001b[0m to force relogin\n"
     ]
    },
    {
     "data": {
      "text/html": [
       "Tracking run with wandb version 0.15.8"
      ],
      "text/plain": [
       "<IPython.core.display.HTML object>"
      ]
     },
     "metadata": {},
     "output_type": "display_data"
    },
    {
     "data": {
      "text/html": [
       "Run data is saved locally in <code>/home/kage/chess_workspace/chess-rl/ChessNetwork/wandb/run-20230807_125120-5u3d4g9o</code>"
      ],
      "text/plain": [
       "<IPython.core.display.HTML object>"
      ]
     },
     "metadata": {},
     "output_type": "display_data"
    },
    {
     "data": {
      "text/html": [
       "Syncing run <strong><a href='https://wandb.ai/open_sim2real/Chess/runs/5u3d4g9o' target=\"_blank\">copper-donkey-39</a></strong> to <a href='https://wandb.ai/open_sim2real/Chess' target=\"_blank\">Weights & Biases</a> (<a href='https://wandb.me/run' target=\"_blank\">docs</a>)<br/>"
      ],
      "text/plain": [
       "<IPython.core.display.HTML object>"
      ]
     },
     "metadata": {},
     "output_type": "display_data"
    },
    {
     "data": {
      "text/html": [
       " View project at <a href='https://wandb.ai/open_sim2real/Chess' target=\"_blank\">https://wandb.ai/open_sim2real/Chess</a>"
      ],
      "text/plain": [
       "<IPython.core.display.HTML object>"
      ]
     },
     "metadata": {},
     "output_type": "display_data"
    },
    {
     "data": {
      "text/html": [
       " View run at <a href='https://wandb.ai/open_sim2real/Chess/runs/5u3d4g9o' target=\"_blank\">https://wandb.ai/open_sim2real/Chess/runs/5u3d4g9o</a>"
      ],
      "text/plain": [
       "<IPython.core.display.HTML object>"
      ]
     },
     "metadata": {},
     "output_type": "display_data"
    },
    {
     "name": "stdout",
     "output_type": "stream",
     "text": [
      "Epoch: 0, Iter: 0, Mean Loss: 8.715449333190918,                     Mean Ploss: 8.4892578125, Mean Vloss: 0.22619152069091797\n",
      "Epoch: 0, Iter: 1000, Mean Loss: 8.599214663395987,                     Mean Ploss: 8.406740720217277, Mean Vloss: 0.19247393402364948\n",
      "Epoch took 94.41134295400116 seconds \n"
     ]
    },
    {
     "ename": "NameError",
     "evalue": "name 'valid_loss' is not defined",
     "output_type": "error",
     "traceback": [
      "\u001b[0;31m---------------------------------------------------------------------------\u001b[0m",
      "\u001b[0;31mNameError\u001b[0m                                 Traceback (most recent call last)",
      "Cell \u001b[0;32mIn[5], line 50\u001b[0m\n\u001b[1;32m     46\u001b[0m         wandb\u001b[39m.\u001b[39mlog({\u001b[39m\"\u001b[39m\u001b[39mval_loss\u001b[39m\u001b[39m\"\u001b[39m: valid_loss, \u001b[39m\"\u001b[39m\u001b[39miter\u001b[39m\u001b[39m\"\u001b[39m: i})\n\u001b[1;32m     49\u001b[0m \u001b[39mprint\u001b[39m(\u001b[39mf\u001b[39m\u001b[39m\"\u001b[39m\u001b[39mEpoch took \u001b[39m\u001b[39m{\u001b[39;00mtime\u001b[39m.\u001b[39mperf_counter()\u001b[39m-\u001b[39mt1\u001b[39m}\u001b[39;00m\u001b[39m seconds \u001b[39m\u001b[39m\"\u001b[39m)\n\u001b[0;32m---> 50\u001b[0m wandb\u001b[39m.\u001b[39mlog({\u001b[39m\"\u001b[39m\u001b[39mval_loss\u001b[39m\u001b[39m\"\u001b[39m: valid_loss, \u001b[39m\"\u001b[39m\u001b[39miter\u001b[39m\u001b[39m\"\u001b[39m: i})\n\u001b[1;32m     51\u001b[0m torch\u001b[39m.\u001b[39msave(model\u001b[39m.\u001b[39mstate_dict(), MODEL_PATH)\n",
      "\u001b[0;31mNameError\u001b[0m: name 'valid_loss' is not defined"
     ]
    }
   ],
   "source": [
    "NUM_EPOCH = 10\n",
    "\n",
    "stats = RunningAverage()\n",
    "stats.add([\"train_loss\", \"val_loss\", \"train_p_loss\", \"train_v_loss\"])\n",
    "grad_scaler = GradScaler()\n",
    "\n",
    "wandb.init(project='Chess')\n",
    "for epoch in range(NUM_EPOCH): \n",
    "    model.train()\n",
    "    t1 = time.perf_counter()\n",
    "    for i, (state, turn, action, result) in enumerate(train_loader):\n",
    "        state = state.float().to('cuda' if torch.cuda.is_available() else 'cpu')\n",
    "        action = action.to('cuda' if torch.cuda.is_available() else 'cpu')\n",
    "        result = result.float().to('cuda' if torch.cuda.is_available() else 'cpu')\n",
    "           \n",
    "        result[turn==0] *= -1\n",
    "\n",
    "        with autocast():\n",
    "            policy_output, value_output = model(state.unsqueeze(1))\n",
    "            policy_loss = model.policy_loss(policy_output.squeeze(), action)\n",
    "            value_loss = model.val_loss(value_output.squeeze(), result)\n",
    "            loss = policy_loss + value_loss\n",
    "        \n",
    "        # AMP with gradient clipping\n",
    "        model.optimizer.zero_grad()\n",
    "        grad_scaler.scale(loss).backward()\n",
    "        grad_scaler.unscale_(model.optimizer)\n",
    "        torch.nn.utils.clip_grad_norm_(model.parameters(), max_norm=1.0)\n",
    "        grad_scaler.step(model.optimizer)\n",
    "        grad_scaler.update()\n",
    "\n",
    "        stats.update({\n",
    "            \"train_loss\": loss.item(),\n",
    "            \"train_p_loss\": policy_loss.item(),\n",
    "            \"train_v_loss\": value_loss.item()\n",
    "            })\n",
    "        \n",
    "        if i % 1000 == 0:\n",
    "            print(f\"Epoch: {epoch}, Iter: {i}, Mean Loss: {stats.get_average('train_loss')}, Mean Ploss: {stats.get_average('train_p_loss')}, Mean Vloss: {stats.get_average('train_v_loss')}\")\n",
    "            wandb.log({\"train_loss\": stats.get_average('train_loss'), \"train_ploss\": stats.get_average('train_loss'), \"train_loss\": stats.get_average('train_vloss'), \"iter\": i})\n",
    "        if i % 20_000 == 0 and i > 0 :\n",
    "            t2 = time.perf_counter()\n",
    "            valid_loss = run_validation(model, val_loader)\n",
    "            print(f\"Mean Validation Loss: {valid_loss}, time elapsed: {time.perf_counter()-t2} seconds\")\n",
    "            wandb.log({\"val_loss\": valid_loss, \"iter\": i})\n",
    "\n",
    "            \n",
    "    print(f\"Epoch took {time.perf_counter()-t1} seconds \")\n",
    "    torch.save(model.state_dict(), MODEL_PATH)"
   ]
  },
  {
   "cell_type": "code",
   "execution_count": null,
   "metadata": {},
   "outputs": [],
   "source": []
  },
  {
   "cell_type": "code",
   "execution_count": null,
   "metadata": {},
   "outputs": [],
   "source": []
  }
 ],
 "metadata": {
  "kernelspec": {
   "display_name": "Python 3",
   "language": "python",
   "name": "python3"
  },
  "language_info": {
   "codemirror_mode": {
    "name": "ipython",
    "version": 3
   },
   "file_extension": ".py",
   "mimetype": "text/x-python",
   "name": "python",
   "nbconvert_exporter": "python",
   "pygments_lexer": "ipython3",
   "version": "3.10.12"
  },
  "orig_nbformat": 4
 },
 "nbformat": 4,
 "nbformat_minor": 2
}
